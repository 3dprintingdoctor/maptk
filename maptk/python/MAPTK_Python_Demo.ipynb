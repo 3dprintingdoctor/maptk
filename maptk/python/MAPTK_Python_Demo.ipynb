{
 "metadata": {
  "name": "",
  "signature": "sha256:2a6d575486433026fc472102c4a4b0fe8769ef894cc4dff1847453b89cd33aff"
 },
 "nbformat": 3,
 "nbformat_minor": 0,
 "worksheets": [
  {
   "cells": [
    {
     "cell_type": "markdown",
     "metadata": {},
     "source": [
      "# Introduction\n",
      "MAPTK now supports an initial Python interface via a C interface library. This iPython notebook intends to introduce this interface and provide a simple demonstration of its use and capability in its current state.\n",
      "\n",
      "As this is currently still in a proof-of-concept phase, only a subset of MAPTK data structures and algorithms are available via the Python interface, and yet also limited in functionality within python (e.g. only simple data accessors and manipuators are avaialble."
     ]
    },
    {
     "cell_type": "markdown",
     "metadata": {},
     "source": [
      "## Setting up the environment\n",
      "In order to access and use the MAPTK python interface:\n",
      "* When configuring MAPTK CMake, additionally enable `MAPTK_ENABLE_C_LIB` and `MAPTK_ENABLE_PYTHON`\n",
      "    * `MAPTK_PYTHON_SEARCH_BUILD_DIR` should also be enabled when working within the build tree.\n",
      "* C interface library must have been built shared\n",
      "\n",
      "**NOTE:** Due to at least one core python source file needing CMake configuration, the Python module is not usable intil at least `make configure` is run after CMake configuration and generation.\n",
      "\n",
      "The Python environment should also be made aware of where the MAPTK python module is located if it is not installed in a standard location (i.e. when working out of the source/build tree). A simple setup script for Unix systems is provided in `lt;SOURCE>/maptk/python/setup_maptk_python.sh` A Windows equivalent batch script will be provided in the future.\n",
      "\n",
      "\n",
      "Tests for the python interface are available in `lt;SOURCE>/maptk/python/maptk/tests` and require the `nose` python package. To run:\n",
      "\n",
      "    $ nosetests ./maptk/python/maptk/tests"
     ]
    },
    {
     "cell_type": "markdown",
     "metadata": {},
     "source": [
      "## Using MAPTK Python Interface\n",
      "The MAPTK Python interface is very similar to the C++ interface, with a slight different in how algorithms are treated. All together, the MAPTK python module primarilly consists of a collection of data structures and a collection of algorithms types."
     ]
    },
    {
     "cell_type": "code",
     "collapsed": true,
     "input": [
      "# Importing MAPTK Python module\n",
      "import maptk\n",
      "print maptk"
     ],
     "language": "python",
     "metadata": {},
     "outputs": []
    },
    {
     "cell_type": "markdown",
     "metadata": {},
     "source": [
      "### Data structures\n",
      "The data structures provided in the Python interface are intended to provide the same functions as their C++ counter parts but maintain pythonic design and interaction. Most data structures are importable, for convenience, in the root maptk module.\n",
      "\n",
      "**NOTE:** Currently, the only data structure that is 100% implemented (compared to the source data structure) is the config_block structue (the MaptkConfigBlock class in Python). Other data structures in the Python interface are only partially implemented in support of the currently implemented algorithms.\n",
      "\n",
      "Currently implemented data structures (in whole or part):\n",
      "* algorithm_plugin_manager\n",
      "* camera\n",
      "* camera_map\n",
      "* config_block (complete interface)\n",
      "* image\n",
      "* image_container\n",
      "* track\n",
      "* track_set"
     ]
    },
    {
     "cell_type": "code",
     "collapsed": true,
     "input": [
      "# The config block structure\n",
      "from maptk import MaptkConfigBlock\n",
      "\n",
      "# Creating an empyty config block:\n",
      "cb = MaptkConfigBlock(\"SomeNameNotRequired\")\n",
      "# cb.available_keys()  # an empty list\n",
      "\n",
      "cb.set_value('foobar', 'true')\n",
      "# cb.available_keys()     # Now has one element, 'foobar'\n",
      "# cb.get_value('foobar')  # Get string value\n",
      "# cb.get_bool('foobar')   # This happens to be a valid boolean string, so we can get it as a boolean value, too"
     ],
     "language": "python",
     "metadata": {},
     "outputs": [],
     "prompt_number": 3
    },
    {
     "cell_type": "markdown",
     "metadata": {},
     "source": [
      "### Error Handling\n",
      "The C interface implements an error handle structure, that many functions take in and set, in case an exception is thrown in the C++ code. When an exception is detected, a non-zero error code is set. The Python interface uses these handles to propagate any errors that occur in the C/C++ code (aside from unavoidable things like segfaults) as raised exceptions in Python.\n",
      "\n",
      "While there is a catch-all return code and Python exception class for generic errors, specific Python exception classes may be associated to specific return codes on a per-function basis for more fine-grained exception handling.\n",
      "\n",
      "For example, config blocks may be read from file. If constructed from a file that doesn't exist, the C++ interface would throw an exception. This is also the case in the Python interface due to automatic error propagation, which happens to be a specific exception class due to the Python implementation knowing that the C interface will return different error codes for specific errors."
     ]
    },
    {
     "cell_type": "code",
     "collapsed": true,
     "input": [
      "from maptk import MaptkConfigBlock\n",
      "cb = MaptkConfigBlock.from_file(\"/This/is/probably/not/a/file/on/your/disk.conf\")"
     ],
     "language": "python",
     "metadata": {},
     "outputs": []
    },
    {
     "cell_type": "markdown",
     "metadata": {},
     "source": [
      "Other functions may only throw the generic base MAPTK Python exception due to a currently lack of implementation on the Python side, or the C interface does not yet return fine-grained error codes."
     ]
    },
    {
     "cell_type": "code",
     "collapsed": true,
     "input": [
      "from maptk import MaptkTrackSet\n",
      "# An empty track set\n",
      "ts = MaptkTrackSet()\n",
      "ts.write_tracks_file(\"not_enough_tracks.txt\")"
     ],
     "language": "python",
     "metadata": {},
     "outputs": []
    },
    {
     "cell_type": "markdown",
     "metadata": {},
     "source": [
      "### Algorithms\n",
      "In the C++ interface, algorithms, when being used by a user or too, are commonly handled via their definition type in order to abstract which implementation is being used. In the Python interface, all algorithm classes represent one of the definition types and are generally treated the same as a definition shared pointer would in the C++ interface.\n",
      "\n",
      "Just as in C++, algorithm instances need to be registered first, and can be done in Python via the MaptkAlgorithmPluginManager class. This class is never instantiated and is only interactable via class methods"
     ]
    },
    {
     "cell_type": "code",
     "collapsed": true,
     "input": [
      "from maptk import MaptkAlgorithmPluginManager\n",
      "\n",
      "# Nothing registered initially:\n",
      "print \"Initially registered modlues:\", MaptkAlgorithmPluginManager.registered_module_names()\n",
      "\n",
      "# Register a specific module:\n",
      "MaptkAlgorithmPluginManager.register_plugins(\"maptk_core\")\n",
      "print \"Single module registration:\", MaptkAlgorithmPluginManager.registered_module_names()\n",
      "\n",
      "# Register all available modules (recommended):\n",
      "MaptkAlgorithmPluginManager.register_plugins()\n",
      "print \"All available modules:\", MaptkAlgorithmPluginManager.registered_module_names()"
     ],
     "language": "python",
     "metadata": {},
     "outputs": []
    },
    {
     "cell_type": "markdown",
     "metadata": {},
     "source": [
      "**NOTE:** It is possible to compile the MAPTK system statically, but the C interface libraray dynamically. In this case, dynamic plugins are not supported. It is still required to call `MaptkAlgorithmPluginManager.register_plugins` to register available algorithm implementations, however the system will only register those implementations that have been baked into the libraries at compile time. Be aware that in this case no modules will be reported as registered via the `\n",
      "MaptkAlgorithmPluginManager.registered_module_names()` method even when algorithm implementations are actually registered."
     ]
    },
    {
     "cell_type": "markdown",
     "metadata": {},
     "source": [
      "#### Undefined Algorithm Instances\n",
      "All algorithm instances must be named (a configuration requirement) and can be initially created with an undefined implementation type, or with a specific implementation.\n",
      "\n",
      "When undefined, a call to the `impl_name()` instance method returns None, and calls to implementation methods raise an exception stating that we cannot operate on a null pointer."
     ]
    },
    {
     "cell_type": "code",
     "collapsed": true,
     "input": [
      "from maptk.algo import MaptkAlgoImageIo\n",
      "iio = MaptkAlgoImageIo('algo_name')\n",
      "print \"iio implementation name:\", iio.impl_name()\n",
      "iio.load('foo')"
     ],
     "language": "python",
     "metadata": {},
     "outputs": []
    },
    {
     "cell_type": "markdown",
     "metadata": {},
     "source": [
      "#### Instantiating Algorithm Implementations\n",
      "When using algorithm instances interactively, available implementations can be viewed via the `registered_names()` class method."
     ]
    },
    {
     "cell_type": "code",
     "collapsed": false,
     "input": [
      "MaptkAlgoImageIo.registered_names()"
     ],
     "language": "python",
     "metadata": {},
     "outputs": []
    },
    {
     "cell_type": "markdown",
     "metadata": {},
     "source": [
      "If a specific implementation is known, it may be initialized via the `\n",
      "create(...)` class method, or by MaptkConfigBlock configuration."
     ]
    },
    {
     "cell_type": "code",
     "collapsed": false,
     "input": [
      "# Directly creating a new algorithm via implementation name\n",
      "iio_ocv = MaptkAlgoImageIo.create(\"iio_ocv\", \"ocv\")\n",
      "print \"Created Implementation type:\", iio_ocv.impl_name()"
     ],
     "language": "python",
     "metadata": {},
     "outputs": []
    },
    {
     "cell_type": "code",
     "collapsed": false,
     "input": [
      "# Configuring an algorithm via MaptkConfigBlock\n",
      "iio = MaptkAlgoImageIo('iio')\n",
      "# iio.load('foo')  # Raises null pointer exception\n",
      "cb = iio.get_config()\n",
      "# iio.impl_name() == None\n",
      "# print cb.as_string()  # To see the current configuration\n",
      "\n",
      "cb.set_value('iio:type', 'ocv')\n",
      "iio.set_config(cb)\n",
      "# iio.impl_name()  # Now equals the set impl type: 'ocv' (assuming this demo is being run with the OCV module build and loaded)\n",
      "# iio.load('foo')  # Now raises exception that file couldn't be found, which is inside the implementation."
     ],
     "language": "python",
     "metadata": {},
     "outputs": []
    },
    {
     "cell_type": "markdown",
     "metadata": {},
     "source": [
      "## Future Work\n",
      "Going forward, the following should be achieved:\n",
      "* Finish interfacing remaining MAPTK data structures and structure APIs\n",
      "* Allow further access to underlying data, including using Numpy to represent data arrays and matricies.\n",
      "* Allow algorithm implementations in Python that are then generally usable within the MAPTK system via a Python algorithm plugin."
     ]
    }
   ],
   "metadata": {}
  }
 ]
}